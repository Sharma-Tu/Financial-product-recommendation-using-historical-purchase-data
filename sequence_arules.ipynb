{
 "cells": [
  {
   "cell_type": "code",
   "execution_count": null,
   "metadata": {},
   "outputs": [],
   "source": [
    "import numpy as np\n",
    "import pandas as pd\n",
    "import gc\n",
    "\n",
    "train = pd.read_csv(\"train_bool.csv\",skipinitialspace=True,index_col='ncodpers',dtype=np.int32)\n",
    "train.info(verbose=True)"
   ]
  },
  {
   "cell_type": "code",
   "execution_count": null,
   "metadata": {},
   "outputs": [],
   "source": [
    "first_cols=[col for col in train.columns if '2015-01-28' in col]\n",
    "temp = train.loc[:,first_cols]\n",
    "train = train.diff(axis=1)\n",
    "train.loc[:,first_cols]=temp\n",
    "train[train < 0] = 0\n",
    "train=train.astype(bool)\n",
    "del temp\n",
    "gc.collect()\n",
    "train.head(50)"
   ]
  },
  {
   "cell_type": "code",
   "execution_count": null,
   "metadata": {},
   "outputs": [],
   "source": [
    "t_not=(train==0).all(axis=1)\n",
    "train=train[~t_not]\n",
    "del t_not\n",
    "gc.collect()\n",
    "train.head(50)"
   ]
  },
  {
   "cell_type": "code",
   "execution_count": null,
   "metadata": {},
   "outputs": [],
   "source": [
    "#train.head().apply(lambda x: list(x[x==True].index), axis=1)\n",
    "cols_without_date=[i[:-11] for i in train.columns]\n",
    "train=train.astype(str)\n",
    "train.replace('True', pd.Series(cols_without_date,train.columns),inplace=True)\n",
    "train.replace('False', '',inplace=True)\n",
    "train.columns=[i[-10:] for i in train.columns]\n",
    "train.head(50)"
   ]
  },
  {
   "cell_type": "code",
   "execution_count": null,
   "metadata": {},
   "outputs": [],
   "source": [
    "from multiprocessing import Pool\n",
    "from contextlib import closing\n",
    "\n",
    "_func = None\n",
    "\n",
    "def worker_init(func):\n",
    "  global _func\n",
    "  _func = func\n",
    "  \n",
    "\n",
    "def worker(x):\n",
    "  return _func(x)\n",
    "\n",
    "\n",
    "def xmap(func, iterable, processes=None):\n",
    "   with closing( Pool(processes, initializer=worker_init, initargs=(func,)) ) as p:\n",
    "    return p.map(worker, iterable)\n",
    "\n",
    "\"\"\"\n",
    "print(xmap(lambda x: ([i for i in pd.Series(data=x[1],index=x[1].index).dropna().unique()] or [None])[0],\n",
    "           train.iloc[-30:-1,:]['ult_fec_cli_1t'].iterrows()))\n",
    "\"\"\"\n",
    "for col in train.columns.unique():\n",
    "    print(col)\n",
    "    temp=xmap(lambda x: ' '.join(x[x!='']),train[col].iterrows())\n",
    "    train=train.drop(columns=col)\n",
    "    train[col]=temp\n"
   ]
  },
  {
   "cell_type": "code",
   "execution_count": null,
   "metadata": {},
   "outputs": [],
   "source": [
    "train.reset_index(inplace=True)\n",
    "train=train.melt(id_vars=['ncodpers'], value_vars=train.columns[1:])\n",
    "train=train[train['value'].str.strip() != '']\n",
    "train.head()"
   ]
  },
  {
   "cell_type": "code",
   "execution_count": null,
   "metadata": {},
   "outputs": [],
   "source": [
    "sequence=pd.Series(list(train['ncodpers'].sort_values().unique()))\n",
    "sequence=pd.Series(sequence.index,sequence)\n",
    "event=pd.Series(list(train['variable'].sort_values().unique()))\n",
    "event=pd.Series(event.index,event)\n",
    "event"
   ]
  },
  {
   "cell_type": "code",
   "execution_count": null,
   "metadata": {},
   "outputs": [],
   "source": [
    "train['ncodpers']=train['ncodpers'].map(sequence)\n",
    "train['variable']=train['variable'].map(event)"
   ]
  },
  {
   "cell_type": "code",
   "execution_count": null,
   "metadata": {},
   "outputs": [],
   "source": [
    "train['value']=train['value'].apply(lambda x: ' '.join(x.split()))\n",
    "train.head(20)"
   ]
  },
  {
   "cell_type": "code",
   "execution_count": null,
   "metadata": {},
   "outputs": [],
   "source": [
    "tmp=train['value'].apply(lambda x: x.count(\"_ult1\"))\n",
    "train.insert(2,'length',tmp)\n",
    "train"
   ]
  },
  {
   "cell_type": "code",
   "execution_count": null,
   "metadata": {},
   "outputs": [],
   "source": [
    "import csv\n",
    "train.to_csv('sequencerules_training.txt',sep=' ',index=False, header=False,\n",
    "             mode='w',quoting=csv.QUOTE_NONE,escapechar='\\t')"
   ]
  }
 ],
 "metadata": {
  "kernelspec": {
   "display_name": "Python 3",
   "language": "python",
   "name": "python3"
  },
  "language_info": {
   "codemirror_mode": {
    "name": "ipython",
    "version": 3
   },
   "file_extension": ".py",
   "mimetype": "text/x-python",
   "name": "python",
   "nbconvert_exporter": "python",
   "pygments_lexer": "ipython3",
   "version": "3.7.0"
  }
 },
 "nbformat": 4,
 "nbformat_minor": 2
}
