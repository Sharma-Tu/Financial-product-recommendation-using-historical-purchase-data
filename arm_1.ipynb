{
 "cells": [
  {
   "cell_type": "code",
   "execution_count": null,
   "metadata": {},
   "outputs": [],
   "source": [
    "import numpy as np\n",
    "import pandas as pd\n",
    "import gc\n",
    "\n",
    "train = pd.read_csv(\"train.csv\",skipinitialspace=True,index_col='ncodpers')\n",
    "train.info(verbose=True)"
   ]
  },
  {
   "cell_type": "code",
   "execution_count": null,
   "metadata": {},
   "outputs": [],
   "source": [
    "train_bool = train.iloc[:,:408].astype(bool)\n",
    "train_bool.to_csv(\"train_bool.csv\",index=True)"
   ]
  },
  {
   "cell_type": "code",
   "execution_count": null,
   "metadata": {},
   "outputs": [],
   "source": [
    "import numpy as np\n",
    "import pandas as pd\n",
    "import gc\n",
    "\n",
    "train = pd.read_csv(\"train_bool.csv\",skipinitialspace=True,index_col='ncodpers')\n",
    "train.info(verbose=True)\n"
   ]
  },
  {
   "cell_type": "code",
   "execution_count": null,
   "metadata": {},
   "outputs": [],
   "source": [
    "products=set([i[:-11] for i in train.columns])\n",
    "\n",
    "for col in products:\n",
    "    cols=[i for i in train.columns if col in i]\n",
    "    train[col]=train[cols].any(axis=1)\n",
    "    train=train.drop(columns=cols)\n",
    "\n",
    "train.info(verbose=True)"
   ]
  },
  {
   "cell_type": "code",
   "execution_count": null,
   "metadata": {},
   "outputs": [],
   "source": [
    "train"
   ]
  },
  {
   "cell_type": "code",
   "execution_count": null,
   "metadata": {},
   "outputs": [],
   "source": [
    "from mlxtend.frequent_patterns import apriori, fpmax, fpgrowth\n",
    "freq_items=fpgrowth(train, min_support=0.00001, use_colnames=True, max_len=None, verbose=0)\n"
   ]
  },
  {
   "cell_type": "code",
   "execution_count": null,
   "metadata": {},
   "outputs": [],
   "source": [
    "freq_items"
   ]
  },
  {
   "cell_type": "code",
   "execution_count": null,
   "metadata": {},
   "outputs": [],
   "source": [
    "from mlxtend.frequent_patterns import association_rules\n",
    "\n",
    "rules = association_rules(freq_items, metric=\"confidence\", min_threshold=0.2)\n"
   ]
  },
  {
   "cell_type": "code",
   "execution_count": null,
   "metadata": {},
   "outputs": [],
   "source": [
    "rules.sort_values('confidence')"
   ]
  },
  {
   "cell_type": "code",
   "execution_count": null,
   "metadata": {},
   "outputs": [],
   "source": [
    "rules[\"consequents_len\"] = rules[\"consequents\"].apply(lambda x: len(x))"
   ]
  },
  {
   "cell_type": "code",
   "execution_count": null,
   "metadata": {},
   "outputs": [],
   "source": [
    "rules_conseq1 = rules[rules[\"consequents_len\"]==1]\n",
    "#del rules\n",
    "#gc.collect()\n",
    "rules_conseq1.sort_values('confidence',ascending=False)"
   ]
  },
  {
   "cell_type": "code",
   "execution_count": null,
   "metadata": {},
   "outputs": [],
   "source": [
    "items = [j for i in rules_conseq1['antecedents'] for j in i]"
   ]
  },
  {
   "cell_type": "code",
   "execution_count": null,
   "metadata": {},
   "outputs": [],
   "source": [
    "rules_conseq1['consequents'].unique()"
   ]
  },
  {
   "cell_type": "code",
   "execution_count": null,
   "metadata": {},
   "outputs": [],
   "source": [
    "import time\n",
    "start_time = time.time()\n",
    "\n",
    "out=pd.DataFrame(columns = ['ncodpers','p1','p2','p3','p4','p5','p6','p7'])\n",
    "\n",
    "for index,row in train.head(100).iterrows():\n",
    "    setD=set([i for i,x in enumerate(row) if x])\n",
    "    indMatch=[i for i,x in enumerate(rules_conseq1['antecedents']) if (setD&x)==x]\n",
    "    if len(indMatch)<7:\n",
    "        indMatch=[i for i,x in enumerate(rules_conseq1['antecedents']) if len(setD&x)>0]\n",
    "    conseq=rules_conseq1.iloc[indMatch,[1,5]]\n",
    "    selectedConseq=[train.columns[list(i)[0]] for i in conseq.groupby(['consequents'])['confidence'].max().nlargest(7).index]\n",
    "    if len(selectedConseq)<7:\n",
    "        continue\n",
    "    insRow= pd.Series([index]+selectedConseq, index = out.columns)\n",
    "    out=out.append(insRow,ignore_index = True)\n",
    "\n",
    "\n",
    "print(\"--- %s seconds ---\" % (time.time() - start_time))\n",
    "\n",
    "out\n",
    "#df.groupby(['school_name', 'user_id'])['like_id'].nunique().sum(level=0).nlargest(5)\n",
    "\n"
   ]
  },
  {
   "cell_type": "code",
   "execution_count": null,
   "metadata": {},
   "outputs": [],
   "source": [
    "import time\n",
    "start_time = time.time()\n",
    "from multiprocessing import Pool\n",
    "from contextlib import closing\n",
    "\n",
    "_func = None\n",
    "\n",
    "def worker_init(func):\n",
    "  global _func\n",
    "  _func = func\n",
    "  \n",
    "\n",
    "def worker(x):\n",
    "  return _func(x)\n",
    "\n",
    "\n",
    "def xmap(func, iterable, processes=None):\n",
    "   with closing( Pool(processes, initializer=worker_init, initargs=(func,)) ) as p:\n",
    "    return p.map(worker, iterable)\n",
    "\n",
    "\n",
    "out=pd.DataFrame(columns = ['ncodpers','p1','p2','p3','p4','p5','p6','p7'])\n",
    "\n",
    "def findTop7(ind,row):\n",
    "    insRow=pd.Series([ind]+[None]*7,index=out.columns)\n",
    "    setD=set([i for i,x in enumerate(row) if x])\n",
    "    indMatch=[i for i,x in enumerate(rules['antecedents']) if (setD&x)==x]\n",
    "    if len(indMatch)<7:\n",
    "        indMatch=[i for i,x in enumerate(rules['antecedents']) if len(setD&x)>0]\n",
    "    conseq=rules.iloc[indMatch,[1,5]]\n",
    "    conseq=pd.DataFrame({'consequents':np.repeat(conseq.consequents.values, len(conseq.confidence)),\n",
    "                        'confidence':np.concatenate(conseq.confidence.values)})\n",
    "    print(conseq)\n",
    "    #selectedConseq=[train.columns[list(i)[0]] for i in conseq.groupby(['consequents'])['confidence'].max().nlargest(7).index]\n",
    "    #insRow= pd.Series([ind]+selectedConseq, index = out.columns)\n",
    "    return insRow\n",
    "\n",
    "out=out.append(xmap(lambda x: findTop7(x[0],x[1]),train.head(20).iterrows()))\n",
    "\n",
    "print(\"--- %s seconds ---\" % (time.time() - start_time))\n",
    "out\n",
    "#out.to_csv(\"arm_out.csv\",index=False)\n"
   ]
  },
  {
   "cell_type": "code",
   "execution_count": null,
   "metadata": {},
   "outputs": [],
   "source": [
    "#out['ncodpers']=out['ncodpers'].astype(int)\n",
    "out\n",
    "out.to_csv(\"arm_out.csv\",index=False)"
   ]
  },
  {
   "cell_type": "code",
   "execution_count": null,
   "metadata": {},
   "outputs": [],
   "source": [
    "out = pd.read_csv(\"arm_out.csv\")\n",
    "test = pd.read_csv(\"test.csv\",index_col='ncodpers_')\n",
    "test.info(verbose=True)"
   ]
  },
  {
   "cell_type": "code",
   "execution_count": null,
   "metadata": {},
   "outputs": [],
   "source": [
    "out"
   ]
  },
  {
   "cell_type": "code",
   "execution_count": null,
   "metadata": {},
   "outputs": [],
   "source": [
    "out_join=test.merge(out,how='left', left_index=True, right_on='ncodpers')\n",
    "out_join.info(verbose=True)"
   ]
  },
  {
   "cell_type": "code",
   "execution_count": null,
   "metadata": {},
   "outputs": [],
   "source": [
    "out_join=out_join.iloc[:,-8:]"
   ]
  },
  {
   "cell_type": "code",
   "execution_count": null,
   "metadata": {},
   "outputs": [],
   "source": [
    "out_join=out_join.set_index('ncodpers')"
   ]
  },
  {
   "cell_type": "code",
   "execution_count": null,
   "metadata": {},
   "outputs": [],
   "source": [
    "out_join"
   ]
  },
  {
   "cell_type": "code",
   "execution_count": null,
   "metadata": {},
   "outputs": [],
   "source": [
    "outfile = out_join.apply(lambda x:  '' if x.isnull().values.any() else ' '.join(x),axis=1)\n",
    "outfile"
   ]
  },
  {
   "cell_type": "code",
   "execution_count": null,
   "metadata": {},
   "outputs": [],
   "source": [
    "outfile.name = 'added_products'\n",
    "outfile.index.rename('ncodpers',inplace=True)\n",
    "outfile.to_csv('outfile_arm1.csv',sep=',',index=True)"
   ]
  }
 ],
 "metadata": {
  "kernelspec": {
   "display_name": "Python 3",
   "language": "python",
   "name": "python3"
  },
  "language_info": {
   "codemirror_mode": {
    "name": "ipython",
    "version": 3
   },
   "file_extension": ".py",
   "mimetype": "text/x-python",
   "name": "python",
   "nbconvert_exporter": "python",
   "pygments_lexer": "ipython3",
   "version": "3.7.0"
  }
 },
 "nbformat": 4,
 "nbformat_minor": 2
}
